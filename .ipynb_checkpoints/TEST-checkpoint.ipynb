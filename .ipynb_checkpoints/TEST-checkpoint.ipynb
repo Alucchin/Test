{
 "cells": [
  {
   "cell_type": "markdown",
   "id": "metric-surge",
   "metadata": {},
   "source": [
    "# TEST Notebook for new branch in Git Hub created in Nuvolos"
   ]
  },
  {
   "cell_type": "code",
   "execution_count": 1,
   "id": "terminal-belfast",
   "metadata": {},
   "outputs": [
    {
     "name": "stdout",
     "output_type": "stream",
     "text": [
      "Funziona?\n"
     ]
    }
   ],
   "source": [
    "print('Funziona?')"
   ]
  },
  {
   "cell_type": "code",
   "execution_count": 2,
   "id": "statewide-clerk",
   "metadata": {},
   "outputs": [],
   "source": [
    "x = 12"
   ]
  },
  {
   "cell_type": "code",
   "execution_count": 3,
   "id": "grand-award",
   "metadata": {},
   "outputs": [
    {
     "data": {
      "text/plain": [
       "17"
      ]
     },
     "execution_count": 3,
     "metadata": {},
     "output_type": "execute_result"
    }
   ],
   "source": [
    "x + 5"
   ]
  },
  {
   "cell_type": "code",
   "execution_count": 4,
   "id": "thrown-glass",
   "metadata": {},
   "outputs": [
    {
     "name": "stdout",
     "output_type": "stream",
     "text": [
      "Funziona.\n"
     ]
    }
   ],
   "source": [
    "print('Funziona.')"
   ]
  }
 ],
 "metadata": {
  "kernelspec": {
   "display_name": "Python 3",
   "language": "python",
   "name": "python3"
  },
  "language_info": {
   "codemirror_mode": {
    "name": "ipython",
    "version": 3
   },
   "file_extension": ".py",
   "mimetype": "text/x-python",
   "name": "python",
   "nbconvert_exporter": "python",
   "pygments_lexer": "ipython3",
   "version": "3.8.5"
  }
 },
 "nbformat": 4,
 "nbformat_minor": 5
}
